{
 "cells": [
  {
   "cell_type": "code",
   "execution_count": 4,
   "metadata": {},
   "outputs": [
    {
     "ename": "ModuleNotFoundError",
     "evalue": "No module named 'dataset_test'",
     "output_type": "error",
     "traceback": [
      "\u001b[0;31m---------------------------------------------------------------------------\u001b[0m",
      "\u001b[0;31mModuleNotFoundError\u001b[0m                       Traceback (most recent call last)",
      "\u001b[0;32m<ipython-input-4-536073b29d71>\u001b[0m in \u001b[0;36m<cell line: 4>\u001b[0;34m()\u001b[0m\n\u001b[1;32m      2\u001b[0m \u001b[0;32mimport\u001b[0m \u001b[0mtorch\u001b[0m\u001b[0;34m\u001b[0m\u001b[0;34m\u001b[0m\u001b[0m\n\u001b[1;32m      3\u001b[0m \u001b[0;31m# import dataset\u001b[0m\u001b[0;34m\u001b[0m\u001b[0;34m\u001b[0m\u001b[0m\n\u001b[0;32m----> 4\u001b[0;31m \u001b[0;32mimport\u001b[0m \u001b[0mdataset_test\u001b[0m\u001b[0;34m\u001b[0m\u001b[0;34m\u001b[0m\u001b[0m\n\u001b[0m\u001b[1;32m      5\u001b[0m \u001b[0;32mimport\u001b[0m \u001b[0mos\u001b[0m\u001b[0;34m\u001b[0m\u001b[0;34m\u001b[0m\u001b[0m\n\u001b[1;32m      6\u001b[0m \u001b[0;32mimport\u001b[0m \u001b[0mtime\u001b[0m\u001b[0;34m\u001b[0m\u001b[0;34m\u001b[0m\u001b[0m\n",
      "\u001b[0;31mModuleNotFoundError\u001b[0m: No module named 'dataset_test'"
     ]
    }
   ],
   "source": [
    "import copy\n",
    "import torch\n",
    "import dataset\n",
    "import dataset_test\n",
    "import os\n",
    "import time\n",
    "import math\n",
    "import random\n",
    "import wandb  \n",
    "import numpy as np\n",
    "\n",
    "from torchsummary import summary\n",
    "# from model import DSCNNS, DSCNNM, DSCNNL\n",
    "from dscnn import DSCNNS, DSCNNM, DSCNNL\n",
    "from utils import remove_txt, parameter_generation, load_config, task_average_forgetting, \\\n",
    "                  Buffer_NRS, Buffer_ECB, Buffer_DAECB, Buffer_LAECB, Buffer_ClusterECB, Buffer_LossECB, Buffer_LDAECB\n",
    "from copy import deepcopy\n",
    "from pthflops import count_ops\n",
    "from train import Train\n",
    "import argparse\n",
    "\n",
    "os.environ[\"CUDA_VISIBLE_DEVICES\"] = \"0,1,2,3\"\n",
    "torch.cuda.set_device(2)\n",
    "\n",
    "# Device setup\n",
    "if torch.cuda.is_available():\n",
    "    device = torch.device('cuda')\n",
    "else:\n",
    "    device = torch.device('cpu')\n",
    "\n",
    "print ('Torch Version:', torch.version.__version__)\n",
    "print('Device:', device)\n",
    "config = load_config(\"config.yaml\")\n",
    "seed = config['seed']\n",
    "torch.manual_seed(seed)"
   ]
  },
  {
   "cell_type": "code",
   "execution_count": 1,
   "metadata": {},
   "outputs": [
    {
     "ename": "NameError",
     "evalue": "name 'parameter_generation' is not defined",
     "output_type": "error",
     "traceback": [
      "\u001b[0;31m---------------------------------------------------------------------------\u001b[0m",
      "\u001b[0;31mNameError\u001b[0m                                 Traceback (most recent call last)",
      "\u001b[0;32m<ipython-input-1-35793572c8d3>\u001b[0m in \u001b[0;36m<cell line: 27>\u001b[0;34m()\u001b[0m\n\u001b[1;32m     25\u001b[0m \u001b[0margs\u001b[0m\u001b[0;34m.\u001b[0m\u001b[0mmethod\u001b[0m \u001b[0;34m=\u001b[0m \u001b[0;34m'noise_data_test'\u001b[0m\u001b[0;34m\u001b[0m\u001b[0;34m\u001b[0m\u001b[0m\n\u001b[1;32m     26\u001b[0m \u001b[0;31m# ... set other arguments as needed\u001b[0m\u001b[0;34m\u001b[0m\u001b[0;34m\u001b[0m\u001b[0m\n\u001b[0;32m---> 27\u001b[0;31m \u001b[0mtraining_parameters\u001b[0m\u001b[0;34m,\u001b[0m \u001b[0mdata_processing_parameters\u001b[0m \u001b[0;34m=\u001b[0m \u001b[0mparameter_generation\u001b[0m\u001b[0;34m(\u001b[0m\u001b[0margs\u001b[0m\u001b[0;34m,\u001b[0m \u001b[0mconfig\u001b[0m\u001b[0;34m,\u001b[0m \u001b[0mtask_id\u001b[0m\u001b[0;34m=\u001b[0m\u001b[0;34m'dil_test'\u001b[0m\u001b[0;34m)\u001b[0m\u001b[0;34m\u001b[0m\u001b[0;34m\u001b[0m\u001b[0m\n\u001b[0m",
      "\u001b[0;31mNameError\u001b[0m: name 'parameter_generation' is not defined"
     ]
    }
   ],
   "source": [
    "class args:\n",
    "    def __init__(self):\n",
    "        self.mode = 'cil'\n",
    "        self.method = 'base_pretrain'\n",
    "        self.noise_mode = 'nakws'\n",
    "        self.debug = False\n",
    "        self.wandb = False\n",
    "        self.background_volume = None\n",
    "        self.early_stop = False\n",
    "        self.forgetting = False\n",
    "        self.dynamic_loss = False\n",
    "        self.augmentation = False\n",
    "        self.remark = None\n",
    "        self.epoch = None\n",
    "        self.epoch_cl = None\n",
    "        self.n_clusters = None\n",
    "        self.load_buffer = False\n",
    "        self.load_model = False\n",
    "        self.seed = None\n",
    "\n",
    "# 使用方式\n",
    "args = args()\n",
    "args.mode = 'dil'\n",
    "args.noise_mode = 'nakws'\n",
    "args.method = 'noise_data_test'\n",
    "# ... set other arguments as needed\n",
    "training_parameters, data_processing_parameters = parameter_generation(args, config, task_id='dil_test')\n"
   ]
  },
  {
   "cell_type": "code",
   "execution_count": null,
   "metadata": {},
   "outputs": [],
   "source": [
    "keyword_right = '/usr/scratch/sassauna2/sem24f39/GSC/dataset/right/0a2b400e_nohash_1.wav'\n",
    "noise = {}\n",
    "noise['DKITCHEN'] = '/usr/scratch/sassauna2/sem24f39/DEMAND/dataset_48k/DKITCHEN_48k/DKITCHEN/ch01.wav'\n",
    "noise['DLIVING'] = '/usr/scratch/sassauna2/sem24f39/DEMAND/dataset_48k/DLIVING_48k/DLIVING/ch03.wav'\n",
    "noise['DWASHING'] = '/usr/scratch/sassauna2/sem24f39/DEMAND/dataset_48k/DWASHING_48k/DWASHING/ch01.wav'\n",
    "noise['NFIELD'] = '/usr/scratch/sassauna2/sem24f39/DEMAND/dataset_48k/NFIELD_48k/NFIELD/ch01.wav'\n",
    "noise['NPARK'] = '/usr/scratch/sassauna2/sem24f39/DEMAND/dataset_48k/NPARK_48k/NPARK/ch01.wav'\n",
    "noise['NRIVER'] = '/usr/scratch/sassauna2/sem24f39/DEMAND/dataset_48k/NRIVER_48k/NRIVER/ch01.wav'\n",
    "noise['OHALLWAY'] = '/usr/scratch/sassauna2/sem24f39/DEMAND/dataset_48k/OHALLWAY_48k/OHALLWAY/ch01.wav'\n",
    "noise['OMEETING'] = '/usr/scratch/sassauna2/sem24f39/DEMAND/dataset_48k/OMEETING_48k/OMEETING/ch01.wav'\n",
    "noise['OOFFICE'] = '/usr/scratch/sassauna2/sem24f39/DEMAND/dataset_48k/OOFFICE_48k/OOFFICE/ch01.wav'\n",
    "noise['PCAFETER'] = '/usr/scratch/sassauna2/sem24f39/DEMAND/dataset_48k/PCAFETER_48k/PCAFETER/ch01.wav'\n",
    "noise['PRESTO'] = '/usr/scratch/sassauna2/sem24f39/DEMAND/dataset_48k/PRESTO_48k/PRESTO'\n",
    "noise['PSTATION'] = '/usr/scratch/sassauna2/sem24f39/DEMAND/dataset_48k/PSTATION_48k/PSTATION/ch01.wav'\n",
    "noise['SCAFE'] = '/usr/scratch/sassauna2/sem24f39/DEMAND/dataset_48k/SCAFE_48k/SCAFE/ch01.wav'\n",
    "noise['SPSQUARE'] = '/usr/scratch/sassauna2/sem24f39/DEMAND/dataset_48k/SPSQUARE_48k/SPSQUARE/ch01.wav'\n",
    "noise['STRAFFIC'] = '/usr/scratch/sassauna2/sem24f39/DEMAND/dataset_48k/STRAFFIC_48k/STRAFFIC/ch01.wav'\n",
    "noise['TBUS'] = '/usr/scratch/sassauna2/sem24f39/DEMAND/dataset_48k/TBUS_48k/TBUS/ch01.wav'\n",
    "noise['TCAR'] = '/usr/scratch/sassauna2/sem24f39/DEMAND/dataset_48k/TCAR_48k/TCAR/ch01.wav'\n",
    "noise['TMETRO'] = '/usr/scratch/sassauna2/sem24f39/DEMAND/dataset_48k/TMETRO_48k/TMETRO/ch01.wav'\n",
    "\n"
   ]
  }
 ],
 "metadata": {
  "kernelspec": {
   "display_name": "Python 3",
   "language": "python",
   "name": "python3"
  },
  "language_info": {
   "codemirror_mode": {
    "name": "ipython",
    "version": 3
   },
   "file_extension": ".py",
   "mimetype": "text/x-python",
   "name": "python",
   "nbconvert_exporter": "python",
   "pygments_lexer": "ipython3",
   "version": "3.9.19"
  }
 },
 "nbformat": 4,
 "nbformat_minor": 2
}
